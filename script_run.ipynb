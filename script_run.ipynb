{
 "metadata": {
  "language_info": {
   "codemirror_mode": {
    "name": "ipython",
    "version": 3
   },
   "file_extension": ".py",
   "mimetype": "text/x-python",
   "name": "python",
   "nbconvert_exporter": "python",
   "pygments_lexer": "ipython3",
   "version": "3.7.6-final"
  },
  "orig_nbformat": 2,
  "kernelspec": {
   "name": "python_defaultSpec_1598671688387",
   "display_name": "Python 3.7.6 64-bit ('base': conda)"
  }
 },
 "nbformat": 4,
 "nbformat_minor": 2,
 "cells": [
  {
   "cell_type": "code",
   "execution_count": 1,
   "metadata": {},
   "outputs": [],
   "source": [
    "import torch"
   ]
  },
  {
   "cell_type": "code",
   "execution_count": 2,
   "metadata": {
    "tags": []
   },
   "outputs": [],
   "source": [
    "#define dataset and hyperparemeters\n",
    "data_directory = 'data'\n",
    "saved_image_directory = 'data/saved_images'\n",
    "saved_model_directory = 'saved_models'\n",
    "class_size = 10\n",
    "embedding_dim = 8\n",
    "batch_size = 64\n",
    "device = 'cuda' if torch.cuda.is_available() else 'cpu'\n",
    "num_workers = 2\n",
    "epochs = 100\n",
    "\n",
    "!python train.py --data_directory=$data_directory --saved_image_directory=$saved_image_directory --saved_model_directory=$saved_model_directory --batch_size=$batch_size --class_size=$class_size --embedding_dim=$embedding_dim --device=$device --num_workers=$num_workers --epochs=$epochs"
   ]
  },
  {
   "cell_type": "code",
   "execution_count": null,
   "metadata": {},
   "outputs": [],
   "source": []
  }
 ]
}